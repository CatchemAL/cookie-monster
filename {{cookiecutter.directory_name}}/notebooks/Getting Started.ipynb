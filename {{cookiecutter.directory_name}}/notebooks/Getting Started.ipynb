{
 "cells": [
  {
   "cell_type": "code",
   "execution_count": null,
   "metadata": {},
   "outputs": [],
   "source": [
    "import {{cookiecutter.directory_name}}\n",
    "from {{cookiecutter.directory_name}} import {{cookiecutter.file_name}}\n",
    "\n",
    "hw = {{cookiecutter.file_name}}.hello_world()\n",
	"ha = {{cookiecutter.directory_name}}.hello_author()\n",
	"\n",
	"print(hw)\n",
	"print(ha)"
   ]
  }
 ],
 "metadata": {
  "kernelspec": {
   "display_name": "Python 3",
   "language": "python",
   "name": "python3"
  },
  "language_info": {
   "codemirror_mode": {
    "name": "ipython",
    "version": 3
   },
   "file_extension": ".py",
   "mimetype": "text/x-python",
   "name": "python",
   "nbconvert_exporter": "python",
   "pygments_lexer": "ipython3",
   "version": "3.7.3"
  }
 },
 "nbformat": 4,
 "nbformat_minor": 2
}
